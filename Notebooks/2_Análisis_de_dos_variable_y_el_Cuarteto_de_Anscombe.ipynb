{
  "nbformat": 4,
  "nbformat_minor": 0,
  "metadata": {
    "colab": {
      "provenance": []
    },
    "kernelspec": {
      "name": "python3",
      "display_name": "Python 3"
    },
    "language_info": {
      "name": "python"
    }
  },
  "cells": [
    {
      "cell_type": "markdown",
      "metadata": {
        "id": "NeUvlgFcktuU"
      },
      "source": [
        "# **T3_Análisis de dos variable y el Cuarteto de Anscombe**\n",
        "\n",
        "La representación de datos es una tarea clave del análisis de datos. La utilización de una gráfica adecuada puede hacer que los resultados y conclusiones se comuniquen de una forma adecuada o no. Conocer y manejar diferentes herramientas es clave para poder seleccionar la gráfica adecua en cada ocasión. En esta entrada se va a repasar básicamente las funciones que ofrece la librería Seaborn.\n",
        "\n",
        "Este tema recorre una gran variedad de temas que pueden ser manipulados con el módulo seaborn para realizar un Análisis Exploratorio de los Datos (EDA)."
      ]
    },
    {
      "cell_type": "markdown",
      "metadata": {
        "id": "lFW3BGpzj_7r"
      },
      "source": [
        "---\n",
        "\n",
        "# **CONTENIDOS**\n",
        "\n",
        "1. El Cuarteto de Anscombe\n",
        "2. Correlación y Regresión Lineal Simple\n",
        "    * Normalidad de y\n",
        "    * Coeficiente de Correlación de Pearson\n",
        "    * Coeficiente de Correlación de Spearman\n",
        "    * Coeficiente de Correlación Tau de kendall\n",
        "3. Importancia de visualizar los datos (Paquetes matplotlib y seaborn)\n",
        "\n",
        "---"
      ]
    },
    {
      "cell_type": "markdown",
      "metadata": {
        "id": "ViYHCEf-dZW5"
      },
      "source": [
        "# **[1. El cuarteto de Anscombe](https://es.wikipedia.org/wiki/Cuarteto_de_Anscombe)**\n",
        "\n",
        "Cada conjunto consiste de once puntos (x, y) y fueron construidos por el estadístico F. J. Anscombe. Francis John \"Frank\" Anscombe (13 de mayo de 1918 - 17 de octubre de 2001) fue un estadístico inglés.\n",
        "\n",
        "El cuarteto de Anscombe comprende cuatro conjuntos de datos que tienen las mismas propiedades estadísticas, pero que evidentemente son distintas al inspeccionar sus gráficos respectivos.\n",
        "\n",
        "Un Ejercicio para ver la necesidad de realizar antes de cualquier análisis estadístico una exploración gráfica de los datos."
      ]
    },
    {
      "cell_type": "code",
      "metadata": {
        "id": "-jwHykWdReuv"
      },
      "source": [
        "# Importamos los módulos necesarios\n",
        "import numpy as np   # Python Numérico, vectores y matrices"
      ],
      "execution_count": null,
      "outputs": []
    },
    {
      "cell_type": "code",
      "metadata": {
        "id": "rT_OHM3oDuEd"
      },
      "source": [
        "# seaborn se utiliza para visualización, es más sofisticado que matplotlib\n",
        "import seaborn as sns\n",
        "# https://seaborn.pydata.org/\n",
        "# https://seaborn.pydata.org/tutorial/regression.html\n",
        "import matplotlib.pyplot as plt"
      ],
      "execution_count": null,
      "outputs": []
    },
    {
      "cell_type": "code",
      "metadata": {
        "id": "1luPV_4kyRBd"
      },
      "source": [
        "# Mirar los conjuntos de datos de seaborn\n",
        "sns.get_dataset_names()"
      ],
      "execution_count": null,
      "outputs": []
    },
    {
      "cell_type": "code",
      "metadata": {
        "id": "aQNVnvUkRpOG"
      },
      "source": [
        "# CUARTETO DE ANSCOMBE\n",
        "# La función load_dataset de seaborn permite cargar conjuntos de datos\n",
        "anscombe = sns.load_dataset(\"anscombe\")"
      ],
      "execution_count": null,
      "outputs": []
    },
    {
      "cell_type": "code",
      "metadata": {
        "id": "Ruyy6zbcHajk"
      },
      "source": [
        "type(anscombe)"
      ],
      "execution_count": null,
      "outputs": []
    },
    {
      "cell_type": "code",
      "metadata": {
        "id": "ewz2baTEzA8Z"
      },
      "source": [
        "anscombe.info()"
      ],
      "execution_count": null,
      "outputs": []
    },
    {
      "cell_type": "code",
      "metadata": {
        "id": "gbjt3LRWtaRp"
      },
      "source": [
        "anscombe"
      ],
      "execution_count": null,
      "outputs": []
    },
    {
      "cell_type": "code",
      "metadata": {
        "id": "o3sK-oc5zohk"
      },
      "source": [
        "anscombe.columns"
      ],
      "execution_count": null,
      "outputs": []
    },
    {
      "cell_type": "code",
      "metadata": {
        "id": "myrXN2_cz30D"
      },
      "source": [
        "anscombe.head(3)"
      ],
      "execution_count": null,
      "outputs": []
    },
    {
      "cell_type": "code",
      "metadata": {
        "id": "AFjMN67Cz9pS"
      },
      "source": [
        "anscombe.tail(3)"
      ],
      "execution_count": null,
      "outputs": []
    },
    {
      "cell_type": "code",
      "metadata": {
        "id": "h0V74dZYTkTD"
      },
      "source": [
        "# La función query() de seaborn permite extraer un subconjunto del dataset original\n",
        "a1 = anscombe.query(\"dataset == 'I' \")"
      ],
      "execution_count": null,
      "outputs": []
    },
    {
      "cell_type": "code",
      "metadata": {
        "id": "KAMDGRzwtxGH"
      },
      "source": [
        "a1"
      ],
      "execution_count": null,
      "outputs": []
    },
    {
      "cell_type": "code",
      "metadata": {
        "id": "r2r-VRyW0Q8_"
      },
      "source": [
        "a1.info()"
      ],
      "execution_count": null,
      "outputs": []
    },
    {
      "cell_type": "code",
      "metadata": {
        "id": "k0B2QcmIT56_"
      },
      "source": [
        "# Extraer el dataset == II\n",
        "a2 = anscombe.query(\"dataset == 'II' \")"
      ],
      "execution_count": null,
      "outputs": []
    },
    {
      "cell_type": "code",
      "metadata": {
        "id": "5WAMmzneLhvx"
      },
      "source": [
        "# Extraer el dataset == III\n",
        "a3 = anscombe.query(\"dataset == 'III' \")"
      ],
      "execution_count": null,
      "outputs": []
    },
    {
      "cell_type": "code",
      "metadata": {
        "id": "sUtU9_k0LvoU"
      },
      "source": [
        "# Extraer el dataset == IV\n",
        "a4 = anscombe.query(\"dataset == 'IV' \")"
      ],
      "execution_count": null,
      "outputs": []
    },
    {
      "cell_type": "code",
      "metadata": {
        "id": "gkZ-HfdnMKcJ"
      },
      "source": [
        "a1.describe(include=\"all\")"
      ],
      "execution_count": null,
      "outputs": []
    },
    {
      "cell_type": "code",
      "metadata": {
        "id": "ibtuL8M-MJlm"
      },
      "source": [
        "a2.describe()"
      ],
      "execution_count": null,
      "outputs": []
    },
    {
      "cell_type": "code",
      "metadata": {
        "id": "dxbyGycwMJaA"
      },
      "source": [
        "a3.describe()"
      ],
      "execution_count": null,
      "outputs": []
    },
    {
      "cell_type": "code",
      "metadata": {
        "id": "R8fSzZhUMJK_"
      },
      "source": [
        "a4.describe()"
      ],
      "execution_count": null,
      "outputs": []
    },
    {
      "cell_type": "markdown",
      "metadata": {
        "id": "m79-T1HTVxoM"
      },
      "source": [
        "# **2. Correlación y Regresión Lineal Simple**\n",
        "\n",
        "La correlación lineal y la regresión lineal simple son métodos estadísticos que estudian la relación lineal existente entre dos variables. Antes de profundizar en cada uno de ellos, conviene destacar algunas diferencias:\n",
        "\n",
        "1. La correlación cuantifica como de relacionadas están dos variables, mientras que la regresión lineal consiste en generar una ecuación (**modelo**) que, basándose en la relación existente entre ambas variables, permita **predecir** el valor de una a partir de la otra.\n",
        "\n",
        "2. El cálculo de la correlación entre dos variables es independiente del orden o asignación de cada variable a X e Y, mide únicamente la relación entre ambas **sin considerar dependencias**. En el caso de la regresión lineal, el modelo varía según qué variable se considere dependiente de la otra (**lo cual no implica causa-efecto**).\n",
        "\n",
        "3. A nivel experimental, la correlación se suele emplear cuando ninguna de las variables se ha controlado, simplemente se han medido ambas y se desea saber si están relacionadas. En el caso de estudios de regresión lineal, es más común que una de las variables se controle (tiempo, concentración de reactivo, temperatura…) y se mida la otra.\n",
        "\n",
        "4. Por norma general, los estudios de correlación lineal preceden a la generación de modelos de regresión lineal. Primero se analiza si ambas variables están correlacionadas y, en caso de estarlo, se procede a generar el modelo de regresión.\n",
        "\n",
        "* Puede ampliar conceptos en este enlace: [Correlación](https://es.wikipedia.org/wiki/Correlaci%C3%B3n)\n",
        "\n",
        "* También en este otro enlace: [El coeficiente de correlación de Pearson (con ejemplo en Python)](https://medium.com/@hdezfloresmiguelangel/el-coeficiente-de-correlaci%C3%B3n-de-pearson-con-ejemplo-en-python-6e8588f67e35)"
      ]
    },
    {
      "cell_type": "code",
      "metadata": {
        "id": "X4G2Wca9UyX5"
      },
      "source": [
        "# La función corr() de pandas permite calcular el coeficiente de correlación\n",
        "a1[['x', 'y']].corr(method=\"pearson\")"
      ],
      "execution_count": null,
      "outputs": []
    },
    {
      "cell_type": "code",
      "metadata": {
        "id": "iXe2h98G7KZg"
      },
      "source": [
        "# Podemos pedir ayuda de la función corr de pandas\n",
        "a1.corr?"
      ],
      "execution_count": null,
      "outputs": []
    },
    {
      "cell_type": "code",
      "metadata": {
        "id": "CRFe7CHfVNCF"
      },
      "source": [
        "# Graficamos el par x,y del conjunto de datos a1\n",
        "plt.plot(a1.x,a1.y,\"ro\")"
      ],
      "execution_count": null,
      "outputs": []
    },
    {
      "cell_type": "code",
      "metadata": {
        "id": "Gy1pMwhIO694"
      },
      "source": [
        "# calculamos el coeficiente de correlación de pearson entre x,y de a2\n",
        "a2[['x', 'y']].corr(method=\"pearson\")"
      ],
      "execution_count": null,
      "outputs": []
    },
    {
      "cell_type": "code",
      "metadata": {
        "id": "f0RzmmFGPJfS"
      },
      "source": [
        "# Graficamos el par x,y de a2\n",
        "plt.plot(a2.x,a2.y,\"bo\")"
      ],
      "execution_count": null,
      "outputs": []
    },
    {
      "cell_type": "code",
      "metadata": {
        "id": "7eIb2ir_2oc4"
      },
      "source": [
        "# calculamos el coeficiente de correlación de spearman entre x,y de a2\n",
        "a2[['x', 'y']].corr(method=\"spearman\")"
      ],
      "execution_count": null,
      "outputs": []
    },
    {
      "cell_type": "code",
      "metadata": {
        "id": "9IggwDID262R"
      },
      "source": [
        "# calculamos el coeficiente de correlación de kendall entre x,y de a2\n",
        "a2[['x', 'y']].corr(method=\"kendall\")"
      ],
      "execution_count": null,
      "outputs": []
    },
    {
      "cell_type": "code",
      "metadata": {
        "id": "Sx7ftj9FPj8d"
      },
      "source": [
        "# calculamos el coeficiente de correlación de pearson entre x,y de a3\n",
        "a3[['x', 'y']].corr(method=\"pearson\")"
      ],
      "execution_count": null,
      "outputs": []
    },
    {
      "cell_type": "code",
      "metadata": {
        "id": "Xn4hnUj5Pq1D"
      },
      "source": [
        "# Graficamos el par x,y de a3\n",
        "plt.plot(a3.x,a3.y,\"bo\")"
      ],
      "execution_count": null,
      "outputs": []
    },
    {
      "cell_type": "code",
      "metadata": {
        "id": "_ntHva3b3cTn"
      },
      "source": [
        "# calculamos el coeficiente de correlación de spearman entre x,y de a3\n",
        "a3[['x', 'y']].corr(method=\"spearman\")"
      ],
      "execution_count": null,
      "outputs": []
    },
    {
      "cell_type": "code",
      "metadata": {
        "id": "MkBpKn3hQTET"
      },
      "source": [
        "# calculamos el coeficiente de correlación pearson entre x,y de a4\n",
        "a4[['x', 'y']].corr(method=\"pearson\")"
      ],
      "execution_count": null,
      "outputs": []
    },
    {
      "cell_type": "code",
      "metadata": {
        "id": "Meu5TuyrQYTw"
      },
      "source": [
        "# Graficamos el par x,y d a4\n",
        "plt.plot(a4.x,a4.y,\"ro\")"
      ],
      "execution_count": null,
      "outputs": []
    },
    {
      "cell_type": "code",
      "metadata": {
        "id": "inH8pL8lQ3Sy"
      },
      "source": [
        "# calculamos el coeficiente de correlación spearman entre x,y de a4\n",
        "a4[['x', 'y']].corr(method=\"spearman\")"
      ],
      "execution_count": null,
      "outputs": []
    },
    {
      "cell_type": "code",
      "metadata": {
        "id": "2fC1QjM7RjfB"
      },
      "source": [
        "# calculamos el coeficiente de correlación kenall entre x,y de a4\n",
        "a4[['x', 'y']].corr(method=\"kendall\")"
      ],
      "execution_count": null,
      "outputs": []
    },
    {
      "cell_type": "code",
      "metadata": {
        "id": "hbf4qXyISZtm"
      },
      "source": [],
      "execution_count": null,
      "outputs": []
    },
    {
      "cell_type": "markdown",
      "metadata": {
        "id": "9bUgCwVrYqvB"
      },
      "source": [
        "# *Coeficiente de correlación de Pearson y valor p para probar la no correlación*.\n",
        "\n",
        "---\n",
        "\n",
        "[scipy.stats.pearsonr(x , y)](https://docs.scipy.org/doc/scipy/reference/generated/scipy.stats.pearsonr.html#r8c6348c62346-3)\n",
        "\n",
        "---\n",
        "\n",
        "El [coeficiente de correlación de Pearson](https://en.wikipedia.org/wiki/Pearson_correlation_coefficient) mide la relación lineal entre dos conjuntos de datos.\n",
        "\n",
        "El cálculo del valor p se basa en el supuesto de que cada conjunto de datos se distribuye normalmente. Como otros coeficientes de correlación, éste varía entre -1 y +1, donde 0 implica que no hay correlación. Las correlaciones de -1 o +1 implican una relación lineal exacta. Las correlaciones positivas implican que a medida que aumenta x, también lo hace y. Las correlaciones negativas implican que a medida que x aumenta, y disminuye.\n",
        "\n",
        "El valor p indica aproximadamente la probabilidad de que un sistema no correlacionado produzca conjuntos de datos que tengan una correlación de Pearson al menos tan extrema como la calculada a partir de estos conjuntos de datos."
      ]
    },
    {
      "cell_type": "code",
      "metadata": {
        "id": "KTasN9OWWn82"
      },
      "source": [
        "from scipy import stats\n",
        "stats.pearsonr(a1.x, a1.y)\n",
        "# H0: no hay correlacion"
      ],
      "execution_count": null,
      "outputs": []
    },
    {
      "cell_type": "code",
      "metadata": {
        "id": "9KHB-jZjyhYX"
      },
      "source": [
        "from scipy import stats\n",
        "stats.pearsonr(a2.x, a2.y)"
      ],
      "execution_count": null,
      "outputs": []
    },
    {
      "cell_type": "code",
      "metadata": {
        "id": "HaXauTQJyh1S"
      },
      "source": [
        "from scipy import stats\n",
        "stats.pearsonr(a3.x, a3.y)"
      ],
      "execution_count": null,
      "outputs": []
    },
    {
      "cell_type": "code",
      "metadata": {
        "id": "SM_8DLOHyhBO"
      },
      "source": [
        "from scipy import stats\n",
        "stats.pearsonr(a4.x, a4.y)"
      ],
      "execution_count": null,
      "outputs": []
    },
    {
      "cell_type": "markdown",
      "metadata": {
        "id": "xfXZ-zLPcrSD"
      },
      "source": [
        "# **Coeficiente de Correlación de Spearman con el valor p asociado**.\n",
        "\n",
        "---\n",
        "[scipy.stats.spearmanr( a , b = Ninguno , eje = 0 , nan_policy = 'propagar' )](https://docs.scipy.org/doc/scipy/reference/generated/scipy.stats.spearmanr.html#scipy.stats.spearmanr)\n",
        "---\n",
        "\n",
        "El coeficiente de correlación de rango y orden de Spearman es una medida no paramétrica de la monotonicidad de la relación entre dos conjuntos de datos. A diferencia de la correlación de Pearson, **la correlación de Spearman no supone que ambos conjuntos de datos estén distribuidos normalmente**. Como otros coeficientes de correlación, éste varía entre -1 y +1, donde 0 implica que no hay correlación. Las correlaciones de -1 o +1 implican una relación monótona exacta. Las correlaciones positivas implican que a medida que aumenta x, también lo hace y. Las correlaciones negativas implican que a medida que x aumenta, y disminuye.\n",
        "\n",
        "El valor p indica aproximadamente la probabilidad de que un sistema no correlacionado produzca conjuntos de datos que tengan una correlación de Spearman al menos tan extrema como la calculada a partir de estos conjuntos de datos. Los valores p no son del todo fiables, pero probablemente sean razonables para conjuntos de datos superiores a 500 o más."
      ]
    },
    {
      "cell_type": "code",
      "metadata": {
        "id": "nUDd5io2XEPY"
      },
      "source": [
        "from scipy import stats\n",
        "stats.spearmanr(a1.x,a1.y)"
      ],
      "execution_count": null,
      "outputs": []
    },
    {
      "cell_type": "code",
      "metadata": {
        "id": "5n_KDTvYzOna"
      },
      "source": [
        "from scipy import stats\n",
        "stats.spearmanr(a2.x,a2.y)"
      ],
      "execution_count": null,
      "outputs": []
    },
    {
      "cell_type": "code",
      "metadata": {
        "id": "rcvjUJcZzO1M"
      },
      "source": [
        "from scipy import stats\n",
        "stats.spearmanr(a3.x,a3.y)"
      ],
      "execution_count": null,
      "outputs": []
    },
    {
      "cell_type": "code",
      "metadata": {
        "id": "JrlTluIOzOaq"
      },
      "source": [
        "from scipy import stats\n",
        "stats.spearmanr(a4.x,a4.y)"
      ],
      "execution_count": null,
      "outputs": []
    },
    {
      "cell_type": "markdown",
      "metadata": {
        "id": "MJ2tnROWdiUC"
      },
      "source": [
        "# **tau de Kendall, una medida de correlación para datos ordinales**.\n",
        "\n",
        "La [tau de Kendall](https://docs.scipy.org/doc/scipy/reference/generated/scipy.stats.kendalltau.html#r4cd1899fa369-1) es una medida de la correspondencia entre dos clasificaciones. Los valores cercanos a 1 indican un fuerte acuerdo, los valores cercanos a -1 indican un fuerte desacuerdo.\n",
        "\n",
        "Esta es la versión “tau-b” de 1945 del tau de Kendall [1] , que puede explicar los vínculos y que se reduce a la versión “tau-a” de 1938 [2] en ausencia de vínculos.\n",
        "\n",
        "[1] Maurice G. Kendall, “El tratamiento de los vínculos en los problemas de clasificación”, Biometrika Vol. 33, núm. 3, págs. 239-251. 1945\n",
        "\n",
        "[2] Maurice G. Kendall, \"Una nueva medida de correlación de rango\", Biometrika Vol. 30, núm. 1/2, págs. 81-93, 1938."
      ]
    },
    {
      "cell_type": "code",
      "metadata": {
        "id": "0HyvL8heXSsw"
      },
      "source": [
        "from scipy import stats\n",
        "stats.kendalltau(a1.x, a1.y)"
      ],
      "execution_count": null,
      "outputs": []
    },
    {
      "cell_type": "code",
      "metadata": {
        "id": "YDdbFDihz2Td"
      },
      "source": [
        "from scipy import stats\n",
        "stats.kendalltau(a2.x, a2.y)"
      ],
      "execution_count": null,
      "outputs": []
    },
    {
      "cell_type": "code",
      "metadata": {
        "id": "zBmJ7KZXz2_0"
      },
      "source": [
        "from scipy import stats\n",
        "stats.kendalltau(a3.x, a3.y)"
      ],
      "execution_count": null,
      "outputs": []
    },
    {
      "cell_type": "code",
      "metadata": {
        "id": "GXlWXo45z17G"
      },
      "source": [
        "from scipy import stats\n",
        "stats.kendalltau(a4.x, a4.y)"
      ],
      "execution_count": null,
      "outputs": []
    },
    {
      "cell_type": "markdown",
      "metadata": {
        "id": "aWVIATlPKntK"
      },
      "source": [
        "#### PRUEBAS DE NORMALIDAD DE LOS DATOS\n",
        "\n",
        "---\n",
        "\n",
        "[Distribución normal](https://es.wikipedia.org/wiki/Distribuci%C3%B3n_normal)\n",
        "\n",
        "---\n",
        "\n",
        "[Test de Shapiro–Wilk](https://es.wikipedia.org/wiki/Test_de_Shapiro%E2%80%93Wilk)\n",
        "\n",
        "---\n",
        "\n",
        "[Prueba de Kolmogorov-Smirnov](https://es.wikipedia.org/wiki/Prueba_de_Kolmogorov-Smirnov)\n",
        "\n",
        "---\n",
        "\n",
        "[Prueba de Anderson-Darling](https://es.wikipedia.org/wiki/Prueba_de_Anderson-Darling)\n",
        "\n",
        "---\n",
        "\n",
        "Comparación De Pruebas De Normalidad\n",
        "---\n",
        "[Comparación De Pruebas De Normalidad](http://gfnun.unal.edu.co/fileadmin/content/eventos/simposioestadistica/documentos/memorias/MEMORIAS_2015/Comunicaciones/Est_Matematica/Isaza_Acevedo___Hernandez_Pruebas_Normalidad.pdf)\n",
        "\n",
        "---"
      ]
    },
    {
      "cell_type": "markdown",
      "metadata": {
        "id": "MjhD23_-Xl18"
      },
      "source": [
        "### [scipy.stats.normaltest](https://docs.scipy.org/doc/scipy/reference/generated/scipy.stats.normaltest.html) para probar la normalidad\n",
        "\n",
        "---\n",
        "\n",
        "[Normality Tests in Python/v3](https://plot.ly/python/v3/normality-test/)"
      ]
    },
    {
      "cell_type": "code",
      "metadata": {
        "id": "lu9JKn-xSXHk"
      },
      "source": [
        "import scipy.stats"
      ],
      "execution_count": null,
      "outputs": []
    },
    {
      "cell_type": "code",
      "metadata": {
        "id": "8LvrcpmWSapw"
      },
      "source": [
        "dir(scipy.stats)"
      ],
      "execution_count": null,
      "outputs": []
    },
    {
      "cell_type": "code",
      "metadata": {
        "id": "dj2GUr-xTPk-"
      },
      "source": [
        "from scipy.stats import shapiro"
      ],
      "execution_count": null,
      "outputs": []
    },
    {
      "cell_type": "code",
      "metadata": {
        "id": "KMZve6APTkgd"
      },
      "source": [
        "stat, p = shapiro(a1.y)\n",
        "# Shapiro-Wilk Test\n",
        "# H0: SI ES NORMAL"
      ],
      "execution_count": null,
      "outputs": []
    },
    {
      "cell_type": "code",
      "metadata": {
        "id": "3dq7MKUlUW6-"
      },
      "source": [
        "stat, p"
      ],
      "execution_count": null,
      "outputs": []
    },
    {
      "cell_type": "markdown",
      "metadata": {
        "id": "cHFyMkiw4oee"
      },
      "source": [
        "Podemos concluir que la variable Y de a1, se distribuye normalmente"
      ]
    },
    {
      "cell_type": "code",
      "metadata": {
        "id": "-lyy4m-nWzSf"
      },
      "source": [
        "# https://plot.ly/python/v3/normality-test/\n",
        "from scipy.stats import shapiro\n",
        "stat, p = shapiro(a1.y)\n",
        "stat,p\n",
        "# Shapiro-Wilk Test"
      ],
      "execution_count": null,
      "outputs": []
    },
    {
      "cell_type": "code",
      "metadata": {
        "id": "u7gXQUucYxZW"
      },
      "source": [
        "# Anderson-Darling Test\n",
        "from scipy.stats import anderson\n",
        "anderson(a1.y)"
      ],
      "execution_count": null,
      "outputs": []
    },
    {
      "cell_type": "code",
      "metadata": {
        "id": "5pSBUIQqZozX"
      },
      "source": [
        "# D'Agostino's K2 Test\n",
        "from scipy.stats import normaltest\n",
        "\n",
        "stat, p = normaltest(a1.y)\n",
        "stat,p"
      ],
      "execution_count": null,
      "outputs": []
    },
    {
      "cell_type": "code",
      "metadata": {
        "id": "lJIEHC00aOuV"
      },
      "source": [
        "# Prueba de shapiro-wilk para el vector y del dataset II\n",
        "from scipy.stats import shapiro\n",
        "stat, p = shapiro(a2.y)\n",
        "stat,p"
      ],
      "execution_count": null,
      "outputs": []
    },
    {
      "cell_type": "code",
      "metadata": {
        "id": "UqpRyaFwVdb6"
      },
      "source": [
        "# Prueba de shapiro-wilk para el vector y del dataset III\n",
        "from scipy.stats import shapiro\n",
        "stat, p = shapiro(a3.y)\n",
        "stat, p"
      ],
      "execution_count": null,
      "outputs": []
    },
    {
      "cell_type": "code",
      "metadata": {
        "id": "xItbbUudVq8L"
      },
      "source": [
        "# Prueba de shapiro-wilk para el vector y del dataset IV\n",
        "from scipy.stats import shapiro\n",
        "stat, p = shapiro(a4.y)\n",
        "stat, p"
      ],
      "execution_count": null,
      "outputs": []
    },
    {
      "cell_type": "markdown",
      "metadata": {
        "id": "GWCLpr8I_SvP"
      },
      "source": [
        "# **3. Importancia de visualizar los datos (Paquetes matplotlib y seaborn)**.\n",
        "\n",
        "---\n",
        "\n",
        "[Visualizing statistical relationships: Visualizando relaciones estadísticas](https://seaborn.pydata.org/tutorial/relational.html#relational-tutorial)\n",
        "\n",
        "---\n",
        "\n",
        "El análisis estadístico es un proceso para comprender cómo las variables en un conjunto de datos se relacionan entre sí y cómo esas relaciones dependen de otras variables. La visualización puede ser un componente central de este proceso porque, cuando los datos se visualizan correctamente, el sistema visual humano puede ver tendencias y patrones que indican una relación.\n",
        "\n",
        "Discutiremos tres funciones nacidas en este tutorial. El que más usaremos es **relplot()**. Esta es una función de nivel de figura para visualizar relaciones estadísticas usando dos enfoques comunes: gráficos de dispersión y gráficos de líneas. **relplot()** combina a **FacetGrid** con una de las dos siguientes funciones de nivel de ejes:\n",
        "\n",
        "---\n",
        "\n",
        "+ scatterplot()(con kind=\"scatter\"; el valor predeterminado)\n",
        "+ lineplot()(con kind=\"line\")\n",
        "\n",
        "---\n",
        "\n",
        "Como veremos, estas funciones pueden ser bastante esclarecedoras porque utilizan representaciones de datos simples y fáciles de entender que, sin embargo, pueden representar estructuras complejas de conjuntos de datos. Pueden hacerlo porque trazan gráficos bidimensionales que pueden mejorarse mapeando hasta tres variables adicionales utilizando la semántica de matiz, tamaño y estilo.\n",
        "\n",
        "---\n",
        "\n",
        "##función relplot()\n",
        "\n",
        "---\n",
        "\n",
        "seaborn.relplot\n",
        "\n",
        "---\n",
        "\n",
        "**seaborn.relplot**(x=None, y=None, hue=None, size=None, style=None, data=None, row=None, col=None, col_wrap=None, row_order=None, col_order=None, palette=None, hue_order=None, hue_norm=None, sizes=None, size_order=None, size_norm=None, markers=None, dashes=None, style_order=None, legend='brief', kind='scatter', height=5, aspect=1, facet_kws=None, **kwargs)"
      ]
    },
    {
      "cell_type": "code",
      "metadata": {
        "id": "GX9JRF8vVwo1"
      },
      "source": [
        "import seaborn as sns\n",
        "ans = sns.load_dataset(\"anscombe\")\n",
        "sns.relplot(x=\"x\",y=\"y\",data=ans)"
      ],
      "execution_count": null,
      "outputs": []
    },
    {
      "cell_type": "code",
      "metadata": {
        "id": "bNzuDzldDd6l"
      },
      "source": [
        "\"\"\"\n",
        "Si bien los puntos se trazan en dos dimensiones, se puede agregar otra dimensión al\n",
        "diagrama coloreando los puntos de acuerdo con una tercera variable.\n",
        "En seaborn, esto se conoce como el uso de un \"tono semántico\" (\"hue semantic\"),\n",
        "porque el color del punto adquiere significado:\n",
        "\"\"\"\n",
        "sns.relplot(x=\"x\",y=\"y\",hue=\"dataset\", data=ans)"
      ],
      "execution_count": null,
      "outputs": []
    },
    {
      "cell_type": "code",
      "metadata": {
        "id": "xJbqXOKcEbOL"
      },
      "source": [
        "# Visualizando cada par x,y, utilizando el argumento query\n",
        "sns.relplot(x=\"x\",y=\"y\",data=ans.query(\"dataset=='I'\"))"
      ],
      "execution_count": null,
      "outputs": []
    },
    {
      "cell_type": "code",
      "metadata": {
        "id": "vvVXfOyM6e6J"
      },
      "source": [
        "# la función regplot() Grafica el dato y Ajusta el dato a un modelo de regresión lineal\n",
        "sns.regplot(x=\"x\", y=\"y\",data=ans.query(\"dataset == 'I' \"  ))"
      ],
      "execution_count": null,
      "outputs": []
    },
    {
      "cell_type": "code",
      "metadata": {
        "id": "8FcH86WDGJmv"
      },
      "source": [
        "sns.relplot(x=\"x\",y=\"y\",data=ans.query(\"dataset=='II'\"))"
      ],
      "execution_count": null,
      "outputs": []
    },
    {
      "cell_type": "code",
      "metadata": {
        "id": "csOeEzvI8HvH"
      },
      "source": [
        "sns.regplot(x=\"x\",y=\"y\",data=ans.query(\"dataset=='II'\"))"
      ],
      "execution_count": null,
      "outputs": []
    },
    {
      "cell_type": "code",
      "metadata": {
        "id": "6gW8xzVW8bvH"
      },
      "source": [
        "sns.regplot(x=\"x\",y=\"y\",data=ans.query(\"dataset=='II'\"), order=2)\n",
        "# Realiza un ajuste de regresión polinomial de orden 2"
      ],
      "execution_count": null,
      "outputs": []
    },
    {
      "cell_type": "code",
      "metadata": {
        "id": "P0OGd2nLGLqB"
      },
      "source": [
        "sns.relplot(x=\"x\",y=\"y\",data=ans.query(\"dataset=='III'\"))"
      ],
      "execution_count": null,
      "outputs": []
    },
    {
      "cell_type": "code",
      "metadata": {
        "id": "HekoQky49nwe"
      },
      "source": [
        "sns.regplot(x=\"x\",y=\"y\",data=ans.query(\"dataset=='III'\"),robust=True,ci=None)\n",
        "# Se hace regresión robusta cuando se tienen outlier que no se quieren eliminar"
      ],
      "execution_count": null,
      "outputs": []
    },
    {
      "cell_type": "markdown",
      "metadata": {
        "id": "4f-cvp2fMltB"
      },
      "source": [
        "[Regresión Robusta en Wikipedia](https://es.wikipedia.org/wiki/Regresi%C3%B3n_robusta)"
      ]
    },
    {
      "cell_type": "code",
      "metadata": {
        "id": "4eXefiPL9-Sf"
      },
      "source": [
        "sns.lmplot(x=\"x\",y=\"y\",data=ans.query(\"dataset=='III'\"),robust=True,ci=None)\n",
        "# Regresión Robusta: https://es.wikipedia.org/wiki/Regresi%C3%B3n_robusta"
      ],
      "execution_count": null,
      "outputs": []
    },
    {
      "cell_type": "code",
      "metadata": {
        "id": "1sMIp7BpFg_O"
      },
      "source": [
        "sns.relplot(x=\"x\",y=\"y\",data=ans.query(\"dataset=='IV'\"))"
      ],
      "execution_count": null,
      "outputs": []
    },
    {
      "cell_type": "code",
      "metadata": {
        "id": "eNrMJ3EdM9zz"
      },
      "source": [
        "sns.regplot(x=\"x\",y=\"y\",data=ans.query(\"dataset=='IV' \"))"
      ],
      "execution_count": null,
      "outputs": []
    },
    {
      "cell_type": "code",
      "metadata": {
        "id": "4EO8912DM-Kt"
      },
      "source": [
        "sns.lmplot(x=\"x\",y=\"y\",data=ans.query(\"dataset=='IV'\"))"
      ],
      "execution_count": null,
      "outputs": []
    },
    {
      "cell_type": "code",
      "metadata": {
        "id": "8jahEA42M-ek"
      },
      "source": [
        "sns.regplot(x=\"x\",y=\"y\",data=ans.query(\"dataset=='IV'\"),robust=True,ci=None)"
      ],
      "execution_count": null,
      "outputs": []
    },
    {
      "cell_type": "markdown",
      "metadata": {
        "id": "SphZl6jCGNFh"
      },
      "source": [
        "Ejercicio:\n",
        "Realice el tutorial de:\n",
        "[Visualizing linear relationships: Visualizando relaciones lineales](https://seaborn.pydata.org/tutorial/regression.html#regression-tutorial)\n",
        "\n",
        "---\n",
        "\n",
        "Visualizando relaciones lineales\n",
        "Muchos conjuntos de datos contienen múltiples variables cuantitativas, y el objetivo de un análisis a menudo es relacionar esas variables entre sí. Nosotros previamente discutido funciones que pueden lograr esto mostrando la distribución conjunta de dos variables. Sin embargo, puede ser muy útil utilizar modelos estadísticos para estimar una relación simple entre dos conjuntos ruidosos de observaciones. Las funciones discutidas en este capítulo lo harán a través del marco común de regresión lineal.\n",
        "\n",
        "En el espíritu de Tukey, las gráficas de regresión en seaborn están destinadas principalmente a agregar una guía visual que ayuda a enfatizar los patrones en un conjunto de datos durante los análisis exploratorios de datos. Es decir que **seaborn no es en sí mismo un paquete para el análisis estadístico**.\n",
        "\n",
        "**Para obtener medidas cuantitativas relacionadas con el ajuste de los modelos de regresión, debe usar** **statsmodels**. Sin embargo, el objetivo de seaborn es hacer que la exploración de un conjunto de datos a través de la visualización sea rápida y fácil, ya que hacerlo es tan importante (si no más) que explorar un conjunto de datos a través de tablas de estadísticas.\n",
        "\n",
        "---\n",
        "\n",
        "Funciones para dibujar modelos de regresión lineal\n",
        "\n",
        "---\n",
        "\n",
        "Se utilizan dos funciones principales en seaborn para visualizar una relación lineal determinada mediante regresión. Estas funciones, **regplot()** y **lmplot()** están estrechamente relacionadas, y comparten gran parte de su funcionalidad principal. Sin embargo, es importante comprender las formas en que difieren, para que pueda elegir rápidamente la herramienta correcta para un trabajo en particular.\n",
        "\n",
        "En la invocación simple, ambas funciones dibujan un diagrama de dispersión de dos variables, x y y, entoncers se ajustan al modelo de regresión y~x, se grafica la línea de regresión resultante y un intervalo de confianza del 95% para esa regresión."
      ]
    },
    {
      "cell_type": "code",
      "metadata": {
        "id": "Pgg1O07QNlh8"
      },
      "source": [
        "import numpy as np\n",
        "import seaborn as sns\n",
        "import matplotlib.pyplot as plt\n",
        "sns.set(color_codes=True)\n",
        "# Carga el conjunto de datos tips que son las propinas de un restaunte\n",
        "tips = sns.load_dataset(\"tips\")\n",
        "tips"
      ],
      "execution_count": null,
      "outputs": []
    },
    {
      "cell_type": "code",
      "metadata": {
        "id": "ShrXY8IKQK80"
      },
      "source": [
        "propinas = tips"
      ],
      "execution_count": null,
      "outputs": []
    },
    {
      "cell_type": "code",
      "metadata": {
        "id": "EfzTinaQQRnx"
      },
      "source": [
        "propinas.info()"
      ],
      "execution_count": null,
      "outputs": []
    },
    {
      "cell_type": "code",
      "metadata": {
        "id": "OQWcgcXFQSC8"
      },
      "source": [
        "propinas.columns\n",
        "# La propiedad columns muestra los nombres de las columnas, pero también se\n",
        "# utiliza para cambiar los nombres de las columnas"
      ],
      "execution_count": null,
      "outputs": []
    },
    {
      "cell_type": "code",
      "metadata": {
        "id": "VuoLPTrpQSXP"
      },
      "source": [
        "columnas = [\"cuenta\",\"propina\",\"sexo\",\"fuma\",\"dia\",\"tiempo\",\"personas\"]\n",
        "propinas.columns = columnas"
      ],
      "execution_count": null,
      "outputs": []
    },
    {
      "cell_type": "code",
      "metadata": {
        "id": "mVkIcWe8QMeL"
      },
      "source": [
        "propinas.head(3)"
      ],
      "execution_count": null,
      "outputs": []
    },
    {
      "cell_type": "code",
      "metadata": {
        "id": "ZLsDSug3QMuJ"
      },
      "source": [
        "propinas.info()"
      ],
      "execution_count": null,
      "outputs": []
    },
    {
      "cell_type": "code",
      "metadata": {
        "id": "4bKFl0ONNlZ7"
      },
      "source": [
        "\"\"\"\n",
        "En la forma mas simple, ambas funciones dibujan un diagrama de dispersión de las\n",
        "dos variables, x y y, a continuación, se ajustan el modelo de regresión\n",
        "y la línea de regresión resultante y un intervalo de confianza\n",
        "del 95% para la regresión y ~ x\n",
        "\"\"\"\n",
        "sns.regplot(x=\"cuenta\", y=\"propina\", data=propinas);"
      ],
      "execution_count": null,
      "outputs": []
    },
    {
      "cell_type": "code",
      "metadata": {
        "id": "rZ36JWVsO-EC"
      },
      "source": [
        "# Lo mismo utilizando la función lmplot()\n",
        "sns.lmplot(x=\"cuenta\", y=\"propina\", data=propinas);"
      ],
      "execution_count": null,
      "outputs": []
    },
    {
      "cell_type": "markdown",
      "metadata": {
        "id": "LaFM73cgPdxV"
      },
      "source": [
        "You should note that the resulting plots are identical, except that the figure shapes are different. We will explain why this is shortly. For now, the other main difference to know about is that regplot() accepts the x and y variables in a variety of formats including simple numpy arrays, pandas Series objects, or as references to variables in a pandas DataFrame object passed to data. In contrast, lmplot() has data as a required parameter and the x and y variables must be specified as strings. This data format is called “long-form” or “tidy” data. Other than this input flexibility, regplot() possesses a subset of lmplot()’s features, so we will demonstrate them using the latter."
      ]
    },
    {
      "cell_type": "code",
      "metadata": {
        "id": "yV0s-GZOO954"
      },
      "source": [
        "\"\"\"\n",
        "Es posible ajustar una regresión lineal cuando una de las variables toma valores\n",
        "discretos, sin embargo, el diagrama de dispersión simple producido por este\n",
        "tipo de conjunto de datos a menudo no es óptimo:\n",
        "\"\"\"\n",
        "sns.lmplot(x=\"personas\", y=\"propina\", data=propinas);\n",
        "# size es el número de personas"
      ],
      "execution_count": null,
      "outputs": []
    },
    {
      "cell_type": "code",
      "metadata": {
        "id": "jxzCWDs0O9qN"
      },
      "source": [
        "\"\"\"\n",
        "Una opción es agregar algo de ruido aleatorio (\"jitter\") a los valores discretos\n",
        "para que la distribución de esos valores sea más clara. Tenga en cuenta que\n",
        "la fluctuación de fase se aplica solo a los datos del diagrama de dispersión\n",
        "y no influye en el ajuste de la línea de regresión:\n",
        "\"\"\"\n",
        "sns.lmplot(x=\"personas\", y=\"propina\", data=propinas, x_jitter=.1);"
      ],
      "execution_count": null,
      "outputs": []
    },
    {
      "cell_type": "code",
      "metadata": {
        "id": "oQaQp4toNlS2"
      },
      "source": [
        "\"\"\"\n",
        "Una segunda opción es colapsar sobre las observaciones en cada contenedor\n",
        "discreto para trazar una estimación de tendencia central junto con un intervalo\n",
        "de confianza:\n",
        "\"\"\"\n",
        "sns.lmplot(x=\"personas\", y=\"propina\", data=propinas, x_estimator=np.mean);"
      ],
      "execution_count": null,
      "outputs": []
    },
    {
      "cell_type": "markdown",
      "metadata": {
        "id": "IP3IG6ZaQk3_"
      },
      "source": [
        "#### Adaptación de diferentes tipos de modelos\n",
        "\n",
        "---\n",
        "\n",
        "El modelo de regresión lineal simple utilizado anteriormente es muy sencillo de ajustar, sin embargo, no es apropiado para algunos tipos de conjuntos de datos. El conjunto de datos del cuarteto de Anscombe muestra algunos ejemplos en los que la regresión lineal simple proporciona una estimación idéntica de una relación en la que la inspección visual simple muestra claramente las diferencias. Por ejemplo, en el primer caso, la regresión lineal es un buen modelo:"
      ]
    },
    {
      "cell_type": "code",
      "metadata": {
        "id": "HRUvAJaHNlLF"
      },
      "source": [
        "anscombe = sns.load_dataset(\"anscombe\")\n",
        "\n",
        "sns.lmplot(x=\"x\", y=\"y\", data=anscombe.query(\"dataset == 'I'\"),\n",
        "           ci=None, scatter_kws={\"s\": 80});"
      ],
      "execution_count": null,
      "outputs": []
    },
    {
      "cell_type": "code",
      "metadata": {
        "id": "zLLyHllQQfap"
      },
      "source": [
        "# La relación lineal en el segundo conjunto de datos es la misma,\n",
        "# pero el gráfico muestra claramente que este no es un buen modelo:\n",
        "\n",
        "sns.lmplot(x=\"x\", y=\"y\", data=anscombe.query(\"dataset == 'II'\"),\n",
        "           ci=None, scatter_kws={\"s\": 80});"
      ],
      "execution_count": null,
      "outputs": []
    },
    {
      "cell_type": "code",
      "metadata": {
        "id": "DWzBv0sbQfOO"
      },
      "source": [
        "# En presencia de este tipo de relaciones de orden superior,\n",
        "# lmplot() y regplot() puede ajustarse a un modelo de regresión polinómica\n",
        "# para explorar tipos simples de tendencias no lineales en el conjunto de datos:\n",
        "\n",
        "sns.lmplot(x=\"x\", y=\"y\", data=anscombe.query(\"dataset == 'II'\"),\n",
        "           order=2, ci=None, scatter_kws={\"s\": 80});\n",
        "\n",
        "# Observe el argumento order=2"
      ],
      "execution_count": null,
      "outputs": []
    },
    {
      "cell_type": "code",
      "metadata": {
        "id": "W_VWAqf-QfAm"
      },
      "source": [
        "# Un problema diferente lo plantean las observaciones \"atípicas\" que se\n",
        "# desvían por alguna otra razón que no sea la relación principal en estudio:\n",
        "\n",
        "sns.lmplot(x=\"x\", y=\"y\", data=anscombe.query(\"dataset == 'III'\"),\n",
        "           ci=None, scatter_kws={\"s\": 80});"
      ],
      "execution_count": null,
      "outputs": []
    },
    {
      "cell_type": "code",
      "metadata": {
        "id": "bydyAoJsQeyw"
      },
      "source": [
        "# En presencia de valores atípicos, puede ser útil ajustar una regresión robusta,\n",
        "# que utiliza una función de pérdida diferente para reducir los residuos\n",
        "# relativamente grandes:\n",
        "\n",
        "sns.lmplot(x=\"x\", y=\"y\", data=anscombe.query(\"dataset == 'III'\"),\n",
        "           robust=True, ci=None, scatter_kws={\"s\": 80});"
      ],
      "execution_count": null,
      "outputs": []
    },
    {
      "cell_type": "code",
      "metadata": {
        "id": "J3HPDIikapib"
      },
      "source": [],
      "execution_count": null,
      "outputs": []
    },
    {
      "cell_type": "markdown",
      "metadata": {
        "id": "O1CLXh2RatIA"
      },
      "source": [
        "# **Variables binaria y regresión Logística**\n",
        "\n",
        "[Regresión Logística](https://es.wikipedia.org/wiki/Regresi%C3%B3n_log%C3%ADstica)\n",
        "\n",
        "Videos sobre la Justificación de la Regresión Logística:\n",
        "\n",
        "[Regresion Logistica: Introduccion](https://www.youtube.com/watch?v=gcvml4gwyrg&list=RDCMUCbdsyFBdG0Fmjroqk-ZoPcg&start_radio=1&t=33)\n",
        "\n"
      ]
    },
    {
      "cell_type": "code",
      "metadata": {
        "id": "paXBO1_PWSwh"
      },
      "source": [
        "propinas.head(3)"
      ],
      "execution_count": null,
      "outputs": []
    },
    {
      "cell_type": "code",
      "metadata": {
        "id": "9Ut1wW6BWwkA"
      },
      "source": [
        "propinon = propinas.propina / propinas.cuenta"
      ],
      "execution_count": null,
      "outputs": []
    },
    {
      "cell_type": "code",
      "metadata": {
        "id": "xg22zMoYXDlK"
      },
      "source": [
        "propinon"
      ],
      "execution_count": null,
      "outputs": []
    },
    {
      "cell_type": "code",
      "metadata": {
        "id": "wQiVEh6tXD1p"
      },
      "source": [
        "# Creando una variable dicotomica (binaria)\n",
        "propinon = (propinas.propina / propinas.cuenta)   > 0.1"
      ],
      "execution_count": null,
      "outputs": []
    },
    {
      "cell_type": "code",
      "metadata": {
        "id": "91OJtJD1XFTz"
      },
      "source": [
        "propinon.head(5)"
      ],
      "execution_count": null,
      "outputs": []
    },
    {
      "cell_type": "code",
      "metadata": {
        "id": "6E-AJbrGXFqF"
      },
      "source": [
        "propinas[\"propinon\"] = (propinas.propina / propinas.cuenta) > 0.1"
      ],
      "execution_count": null,
      "outputs": []
    },
    {
      "cell_type": "code",
      "metadata": {
        "id": "z5rE3ubeXF9x"
      },
      "source": [
        "propinas.head()"
      ],
      "execution_count": null,
      "outputs": []
    },
    {
      "cell_type": "code",
      "metadata": {
        "id": "wDTI8tfINlBt"
      },
      "source": [
        "# Cuando la variable es binaria, la regresión lineal simple también \"funciona\"\n",
        "# pero proporciona predicciones inverosímiles:\n",
        "import seaborn as sns\n",
        "tips = sns.load_dataset(\"tips\")\n",
        "\n",
        "tips[\"big_tip\"] = (tips.tip / tips.total_bill) > .15\n",
        "\n",
        "sns.lmplot(x=\"total_bill\", y=\"big_tip\", data=tips,\n",
        "           y_jitter=.03);\n",
        "\n",
        "# Observe la definición de una nueva variable llamada big_tip, que se agrega\n",
        "# al conjunto de datos tips. Se ve claramente que es una proporción de las\n",
        "# propinas (tip) sobre la cuenta total (total_bill), pero categoriza a las que\n",
        "# son mayores al 15% (> 0.15)"
      ],
      "execution_count": null,
      "outputs": []
    },
    {
      "cell_type": "code",
      "metadata": {
        "id": "Vy9kau_YNk0N"
      },
      "source": [
        "# Observe que la nueva variable es una variable dicotómica con valores\n",
        "# True aquellas proporciones mayores de 15%\n",
        "tips.big_tip"
      ],
      "execution_count": null,
      "outputs": []
    },
    {
      "cell_type": "code",
      "metadata": {
        "id": "bOW8xiCpTe6E"
      },
      "source": [
        "# La solución en este caso es ajustar una regresión logística, de modo que la\n",
        "# línea de regresión muestre la probabilidad estimada de un valor dado de\n",
        "# y = 1 para un valor dado de x\n",
        "sns.lmplot(x=\"total_bill\", y=\"big_tip\", data=tips,\n",
        "           logistic=True, y_jitter=.03);"
      ],
      "execution_count": null,
      "outputs": []
    },
    {
      "cell_type": "code",
      "metadata": {
        "id": "deUnktRlQMLs"
      },
      "source": [
        "import seaborn as sns"
      ],
      "execution_count": null,
      "outputs": []
    },
    {
      "cell_type": "code",
      "metadata": {
        "id": "tSsPqc4rQLmg"
      },
      "source": [
        "p = sns.load_dataset(\"tips\")"
      ],
      "execution_count": null,
      "outputs": []
    },
    {
      "cell_type": "code",
      "metadata": {
        "id": "XkPwqviSQLJW"
      },
      "source": [
        "p.head(3)"
      ],
      "execution_count": null,
      "outputs": []
    },
    {
      "cell_type": "code",
      "metadata": {
        "id": "3kElkZ5RQKt0"
      },
      "source": [
        "p.columns"
      ],
      "execution_count": null,
      "outputs": []
    },
    {
      "cell_type": "code",
      "metadata": {
        "id": "5gVPuUvDRQM2"
      },
      "source": [
        "columnas = (\"cuenta\",\"propina\",\"sexo\",\"fuma\",\"dia\",\"hora\",\"personas\")"
      ],
      "execution_count": null,
      "outputs": []
    },
    {
      "cell_type": "code",
      "metadata": {
        "id": "A0gzxap1RPzp"
      },
      "source": [
        "p.columns = columnas"
      ],
      "execution_count": null,
      "outputs": []
    },
    {
      "cell_type": "code",
      "metadata": {
        "id": "b1PVTDc3RPbD"
      },
      "source": [
        "p.head(3)"
      ],
      "execution_count": null,
      "outputs": []
    },
    {
      "cell_type": "code",
      "metadata": {
        "id": "EkP4Z9RzRO_g"
      },
      "source": [
        "sns.relplot(x=\"cuenta\",y=\"propina\",data=p)"
      ],
      "execution_count": null,
      "outputs": []
    },
    {
      "cell_type": "code",
      "metadata": {
        "id": "XAG8nRSYVF3T"
      },
      "source": [
        "sns.relplot(x=\"cuenta\",y=\"propina\", hue=\"sexo\",col=\"hora\",data=p)"
      ],
      "execution_count": null,
      "outputs": []
    },
    {
      "cell_type": "code",
      "metadata": {
        "id": "IN_i4Ff5VFjM"
      },
      "source": [
        "sns.relplot(x=\"cuenta\",y=\"propina\",hue=\"hora\",row=\"sexo\",data=p)"
      ],
      "execution_count": null,
      "outputs": []
    },
    {
      "cell_type": "code",
      "metadata": {
        "id": "BIbzWxzzVFJr"
      },
      "source": [
        "sns.relplot(x=\"cuenta\",y=\"propina\",hue=\"sexo\",col=\"hora\",row=\"dia\",data=p)"
      ],
      "execution_count": null,
      "outputs": []
    },
    {
      "cell_type": "code",
      "metadata": {
        "id": "uQqgWxjwYtAo"
      },
      "source": [
        "# REGRESIONES LINEALES CON ANSCONMBE Y GRAFICA DE RESIDUALES\n",
        "a = sns.load_dataset(\"anscombe\")"
      ],
      "execution_count": null,
      "outputs": []
    },
    {
      "cell_type": "code",
      "metadata": {
        "id": "X3OGMPZIYsbg"
      },
      "source": [
        "a.head(3)"
      ],
      "execution_count": null,
      "outputs": []
    },
    {
      "cell_type": "code",
      "metadata": {
        "id": "6QjqQegKZE1r"
      },
      "source": [
        "sns.regplot(x=\"x\",y=\"y\",data=a.query(\"dataset=='I' \"))"
      ],
      "execution_count": null,
      "outputs": []
    },
    {
      "cell_type": "code",
      "metadata": {
        "id": "pE-ssra6ZEiG"
      },
      "source": [
        "sns.residplot(x=\"x\",y=\"y\",data=a.query(\"dataset=='I'\"))"
      ],
      "execution_count": null,
      "outputs": []
    },
    {
      "cell_type": "code",
      "metadata": {
        "id": "Fehk3wCpZEPo"
      },
      "source": [
        "sns.regplot(x=\"x\",y=\"y\",data=a.query(\"dataset=='II'\"))"
      ],
      "execution_count": null,
      "outputs": []
    },
    {
      "cell_type": "code",
      "metadata": {
        "id": "04RMguZzZD3c"
      },
      "source": [
        "sns.residplot(x=\"x\",y=\"y\",data=a.query(\"dataset=='II'\"))"
      ],
      "execution_count": null,
      "outputs": []
    },
    {
      "cell_type": "code",
      "metadata": {
        "id": "yLBc-kBBQKQ0"
      },
      "source": [
        "sns.regplot(x=\"x\",y=\"y\",data=a.query(\"dataset=='II'\"),order=2)"
      ],
      "execution_count": null,
      "outputs": []
    },
    {
      "cell_type": "code",
      "metadata": {
        "id": "-PToWT5qcRiG"
      },
      "source": [
        "sns.residplot(x=\"x\",y=\"y\",data=a.query(\"dataset=='II'\"),order=2)"
      ],
      "execution_count": null,
      "outputs": []
    },
    {
      "cell_type": "code",
      "metadata": {
        "id": "FOrU8spcTer3"
      },
      "source": [
        "# Tenga en cuenta que la estimación de la regresión logística es\n",
        "# considerablemente más computacionalmente intensiva (esto también es cierto\n",
        "# para la regresión robusta) que la regresión simple, y como el intervalo de\n",
        "# confianza alrededor de la línea de regresión se calcula utilizando un\n",
        "# procedimiento de arranque, es posible que desee desactivarlo para una\n",
        "# más rápido iteración (usando ci=None).\n",
        "\n",
        "# Un enfoque completamente diferente es ajustar una regresión no paramétrica\n",
        "# usando un lowess más suave\n",
        "# [lowess smoother](https://en.wikipedia.org/wiki/Local_regression).\n",
        "# Este enfoque tiene la menor cantidad de\n",
        "# supuestos, aunque es computacionalmente intensivo y, por lo tanto,\n",
        "# los intervalos de confianza actualmente no se calculan en absoluto:\n",
        "sns.lmplot(x=\"cuenta\", y=\"propina\", data=p,lowess=True);"
      ],
      "execution_count": null,
      "outputs": []
    },
    {
      "cell_type": "code",
      "metadata": {
        "id": "Kb7dRPXxEvpu"
      },
      "source": [
        "sns.residplot(x=\"cuenta\", y=\"propina\", data=p,\n",
        "           lowess=True);"
      ],
      "execution_count": null,
      "outputs": []
    },
    {
      "cell_type": "code",
      "metadata": {
        "id": "gPFZOF5BVH6J"
      },
      "source": [
        "# The residplot() function can be a useful tool for checking whether the simple\n",
        "# regression model is appropriate for a dataset. It fits and removes a simple\n",
        "# linear regression and then plots the residual values for each observation.\n",
        "# Ideally, these values should be randomly scattered around y = 0:\n",
        "\n",
        "sns.residplot(x=\"x\", y=\"y\", data=a.query(\"dataset == 'I'\"),\n",
        "              scatter_kws={\"s\": 10});\n",
        "\n",
        "#"
      ],
      "execution_count": null,
      "outputs": []
    },
    {
      "cell_type": "code",
      "metadata": {
        "id": "2y4zDVvuVH11"
      },
      "source": [
        "# If there is structure in the residuals, it suggests that simple linear\n",
        "# regression is not appropriate:\n",
        "\n",
        "sns.residplot(x=\"x\", y=\"y\", data=anscombe.query(\"dataset == 'II'\"),\n",
        "              scatter_kws={\"s\": 80});"
      ],
      "execution_count": null,
      "outputs": []
    },
    {
      "cell_type": "markdown",
      "metadata": {
        "id": "B9piuAj8VlNR"
      },
      "source": [
        "#### Condicionamiento a otras variables\n",
        "\n",
        "---\n",
        "\n",
        "Las gráficas anteriores muestran muchas formas de explorar la relación entre un par de variables. Sin embargo, a menudo, una pregunta más interesante es \"¿cómo cambia la relación entre estas dos variables en función de una tercera variable?\" Aquí es donde aparece la diferencia entre **regplot()** y **lmplot()**.\n",
        "\n",
        "Mientras que **regplot()** siempre muestra una relación única, **lmplot()** combina **regplot()** con **FacetGrid** para proporcionar una interfaz fácil para mostrar una regresión lineal en gráficos \"facetados\" que le permiten explorar interacciones con hasta tres **variables categóricas** adicionales.\n",
        "\n",
        "---\n",
        "\n",
        "La mejor manera de separar una relación es trazar ambos niveles en los mismos ejes y usar el color para distinguirlos:\n",
        "---"
      ]
    },
    {
      "cell_type": "code",
      "metadata": {
        "id": "jJXsZ_tNVHxr"
      },
      "source": [
        "sns.lmplot(x=\"total_bill\", y=\"tip\", hue=\"smoker\", data=tips);"
      ],
      "execution_count": null,
      "outputs": []
    },
    {
      "cell_type": "code",
      "metadata": {
        "id": "9cftIjRVVHt0"
      },
      "source": [
        "# In addition to color, it’s possible to use different scatterplot markers\n",
        "# to make plots the reproduce to black and white better.\n",
        "# You also have full control over the colors used:\n",
        "\n",
        "sns.lmplot(x=\"total_bill\", y=\"tip\", hue=\"smoker\", data=tips,\n",
        "           markers=[\"o\", \"x\"], palette=\"Set1\");\n",
        "\n",
        "#"
      ],
      "execution_count": null,
      "outputs": []
    },
    {
      "cell_type": "code",
      "metadata": {
        "id": "8riyAbqGVHoN"
      },
      "source": [
        "# To add another variable, you can draw multiple “facets” which each level\n",
        "# of the variable appearing in the rows or columns of the grid:\n",
        "\n",
        "sns.lmplot(x=\"total_bill\", y=\"tip\", hue=\"smoker\", col=\"time\", data=tips);"
      ],
      "execution_count": null,
      "outputs": []
    },
    {
      "cell_type": "code",
      "metadata": {
        "id": "6V924CoHVHip"
      },
      "source": [
        "sns.lmplot(x=\"total_bill\", y=\"tip\", hue=\"smoker\",\n",
        "           col=\"time\", row=\"sex\", data=tips);"
      ],
      "execution_count": null,
      "outputs": []
    },
    {
      "cell_type": "markdown",
      "metadata": {
        "id": "4H5gg9XEJbtA"
      },
      "source": [
        "# PARA ESTUDIAR, wikipedia\n",
        "\n",
        "---\n",
        "\n",
        "[Regresión lineal](https://es.wikipedia.org/wiki/Regresi%C3%B3n_lineal)"
      ]
    },
    {
      "cell_type": "markdown",
      "metadata": {
        "id": "i90Utaxzy7rZ"
      },
      "source": [
        "# EJERCICIO: Verifique que la variable dependiente cloro esta relacionada linealmente con la variable independiente semanas.\n",
        "\n",
        "Los datos que se muestran en la siguiente celda, son los datos de Draper y Smith (1998), consisten de n = 44 muestras.\n",
        "\n",
        "Contiene datos de la cantidad de cloro en muestras de un producto en función del número de semanas desde que se produjo.\n",
        "\n",
        "Puede descargar el libro [Aquí](https://www.academia.edu/32080496/Applied_Regression_Analysis_Norman_R._Draper_Harry_Smith_.pdf?auto=download)\n",
        "\n",
        "**Página 505: Chapter 24. an Introduction to Nonlinear Stimation**.\n",
        "\n",
        "**El dato y la expliación del experimento de la producción de cloro se encuentra en la página 519 en: Table 24.2. Percent of Available Chlorine in a Unit of Product.**\n",
        "\n",
        "El ejemplo se explica en la página 518 en la sección:\n",
        "**24.3 An Example** y la ecuación es la 24.3.2."
      ]
    },
    {
      "cell_type": "markdown",
      "metadata": {
        "id": "BQU25gcnsN8G"
      },
      "source": [
        "# [Statgraphics Online](http://statvision.com/statgraphics_online.htm)\n",
        "\n",
        "STATGRAPHICS Online es un paquete estadístico que se ejecuta dentro de un navegador web. Puede ingresar datos directamente en el editor de datos o leer datos de archivos de texto, archivos de Excel u otros formatos comunes. Los cálculos se realizan de forma remota en un servidor web y los resultados se devuelven a su navegador como HTML con imágenes gráficas incorporadas.\n",
        "\n",
        "El acceso a Statgraphics Online está disponible mediante la compra de una suscripción mensual. Los suscriptores pueden ingresar sus propios datos, cargar datos desde sus propias computadoras y crear y almacenar scripts. También puede hacer una demostración del programa como invitado, pero estará restringido a analizar solo los conjuntos de datos de muestra proporcionados."
      ]
    },
    {
      "cell_type": "code",
      "metadata": {
        "id": "_-1U2YEoxg0i"
      },
      "source": [
        "semanas=[8,8,10,10,10,10,12,12,12,12,14,14,14,16,16,16,18,18,\n",
        "        20,20,20,22,22,22,24,24,24,26,26,26,28,28,30,30,30,32,\n",
        "        32,34,36,36,38,38,40,42]\n",
        "\n",
        "cloro = [0.49,0.49,0.48,0.47,0.48,0.47,0.46,0.46,0.45,0.43,0.45,\n",
        "        0.43,0.43,0.44,0.43,0.43,0.46,0.45,0.42,0.42,0.43,0.41,\n",
        "        0.41,0.40,0.42,0.40,0.40,0.41,0.40,0.41,0.41,0.40,0.40,\n",
        "        0.40,0.38,0.41,0.40,0.40,0.41,0.38,0.40,0.40,0.39,0.39]"
      ],
      "execution_count": null,
      "outputs": []
    },
    {
      "cell_type": "code",
      "metadata": {
        "id": "YQxt_Lqe5anU"
      },
      "source": [
        "import seaborn as sns\n",
        "import scipy.stats\n",
        "from scipy.stats import shapiro\n",
        "import pandas as pd\n",
        "import matplotlib.pyplot as plt"
      ],
      "execution_count": null,
      "outputs": []
    },
    {
      "cell_type": "code",
      "metadata": {
        "id": "7Ukkp8velZxi"
      },
      "source": [
        "# Crea un DataFrame de pandas con los vectores semanas y cloro\n",
        "d = {'semanas': semanas, 'cloro': cloro}\n",
        "df = pd.DataFrame(data=d)\n",
        "df"
      ],
      "execution_count": null,
      "outputs": []
    },
    {
      "cell_type": "code",
      "metadata": {
        "id": "TL2bvMMGdv6G"
      },
      "source": [
        "# Guardamos el data frame\n",
        "df.to_csv(\"cloro.csv\")"
      ],
      "execution_count": null,
      "outputs": []
    },
    {
      "cell_type": "code",
      "metadata": {
        "id": "WpeISnNLl_Cb"
      },
      "source": [
        "dir(scipy.stats)"
      ],
      "execution_count": null,
      "outputs": []
    },
    {
      "cell_type": "code",
      "metadata": {
        "id": "gRV-QUXJGa9M"
      },
      "source": [
        "# Miramos la normalidad de la variable dependiente:cloro\n",
        "from scipy.stats import shapiro\n",
        "\n",
        "# Realiza la prueba con la función shapiro\n",
        "s,p = shapiro(cloro)\n",
        "# Mira si p es menor que 0.05 se rechaza la normalidad de la variable\n",
        "if p < 0.05:\n",
        "    print(\"La variable cloro NO se distribuye normalmente: p-Valor = \",p)\n",
        "elif p >= 0.05:\n",
        "    print(\"La variable cloro SI se distribuye normalmente: p-Valor = \",p)"
      ],
      "execution_count": null,
      "outputs": []
    },
    {
      "cell_type": "code",
      "metadata": {
        "id": "smkXqsjal_x3"
      },
      "source": [
        "# Importo las funciones pearsonr(), spearmanr() y kendalltau() que realizan\n",
        "# una prueba para ver si hay o no correlación lineal entre dos variables cuantitativas\n",
        "from scipy.stats import pearsonr, spearmanr, kendalltau"
      ],
      "execution_count": null,
      "outputs": []
    },
    {
      "cell_type": "code",
      "metadata": {
        "id": "IGCeDertojAc"
      },
      "source": [
        "# Devuelve dos valores el segundo valor es la probabilidad\n",
        "# Si este valor es menor que 0.05 entonces las dos variables\n",
        "# están correlacionadas\n",
        "pearsonr(df.semanas,df.cloro)"
      ],
      "execution_count": null,
      "outputs": []
    },
    {
      "cell_type": "code",
      "metadata": {
        "id": "bINZG2p06zI7"
      },
      "source": [
        "spearmanr(df.semanas,df.cloro)"
      ],
      "execution_count": null,
      "outputs": []
    },
    {
      "cell_type": "code",
      "metadata": {
        "id": "_Ed8uzo46zj5"
      },
      "source": [
        "kendalltau(df.semanas,df.cloro)"
      ],
      "execution_count": null,
      "outputs": []
    },
    {
      "cell_type": "code",
      "metadata": {
        "id": "A2rB8QIso1bo"
      },
      "source": [
        "df.head()"
      ],
      "execution_count": null,
      "outputs": []
    },
    {
      "cell_type": "code",
      "metadata": {
        "id": "4Ow-PxGFpQi8"
      },
      "source": [
        "df.tail()"
      ],
      "execution_count": null,
      "outputs": []
    },
    {
      "cell_type": "code",
      "metadata": {
        "id": "5u34vw5epSlN"
      },
      "source": [
        "df.corr()"
      ],
      "execution_count": null,
      "outputs": []
    },
    {
      "cell_type": "code",
      "metadata": {
        "id": "EDVipbZApbJA"
      },
      "source": [
        "sns.relplot(x=\"semanas\",y=\"cloro\",data=df)"
      ],
      "execution_count": null,
      "outputs": []
    },
    {
      "cell_type": "code",
      "metadata": {
        "id": "j147EgStplru"
      },
      "source": [
        "sns.regplot(x=\"semanas\",y=\"cloro\",data=df)"
      ],
      "execution_count": null,
      "outputs": []
    },
    {
      "cell_type": "code",
      "metadata": {
        "id": "8DHoabPbqFPE"
      },
      "source": [
        "sns.residplot(x=\"semanas\",y=\"cloro\",data=df)"
      ],
      "execution_count": null,
      "outputs": []
    },
    {
      "cell_type": "code",
      "metadata": {
        "id": "5uUCDO6JEuPh"
      },
      "source": [
        "sns.regplot(x=\"semanas\",y=\"cloro\",data=df,order=2)"
      ],
      "execution_count": null,
      "outputs": []
    },
    {
      "cell_type": "code",
      "metadata": {
        "id": "k7xiHAd5FMh1"
      },
      "source": [
        "sns.residplot(x=\"semanas\",y=\"cloro\",data=df,order=2)"
      ],
      "execution_count": null,
      "outputs": []
    },
    {
      "cell_type": "code",
      "metadata": {
        "id": "3DVF4tbNFRnM"
      },
      "source": [
        "sns.regplot(x=\"semanas\",y=\"cloro\",data=df,robust=True)"
      ],
      "execution_count": null,
      "outputs": []
    },
    {
      "cell_type": "code",
      "metadata": {
        "id": "lX_sb-MWFYC5"
      },
      "source": [
        "sns.residplot(x=\"semanas\",y=\"cloro\",data=df,robust=True)"
      ],
      "execution_count": null,
      "outputs": []
    },
    {
      "cell_type": "markdown",
      "metadata": {
        "id": "wXo7eAbKeLfP"
      },
      "source": [
        "[Ajuste no lineal](https://marceluda.github.io/python-para-fisicos/tuto/analisis/ajuste-no-lineal/)\n",
        "\n",
        "Se desea ajustar el siguiente modelo a los datos:\n",
        "\n",
        "$$\n",
        "chlorine =  a+(0.49-a)*\\exp^{(-b*(semanas-8))}\n",
        "$$\n",
        "\n",
        "Este modelo, sugerido por un experto en el área, contiene dos incógnitas: a, el valor asintótico basal que se alcanza con valores grandes de weeks, y b, la tasa exponencial de decaimiento.\n",
        "\n",
        "Puede descargar el libro [Aquí](https://www.academia.edu/32080496/Applied_Regression_Analysis_Norman_R._Draper_Harry_Smith_.pdf?auto=download)"
      ]
    },
    {
      "cell_type": "code",
      "metadata": {
        "id": "IeG6GTMmFcpk"
      },
      "source": [
        "import matplotlib.pyplot as plt\n",
        "import numpy as np\n",
        "from scipy.optimize import curve_fit"
      ],
      "execution_count": null,
      "outputs": []
    },
    {
      "cell_type": "code",
      "metadata": {
        "id": "PiNdGjjXBAhP"
      },
      "source": [
        "def f(x, a, b):\n",
        "    return a + (0.49 -a)*np.exp(-b*(x-8))\n",
        "\n",
        "semanas=[8,8,10,10,10,10,12,12,12,12,14,14,14,16,16,16,18,18,\n",
        "        20,20,20,22,22,22,24,24,24,26,26,26,28,28,30,30,30,32,\n",
        "        32,34,36,36,38,38,40,42]\n",
        "\n",
        "cloro = [0.49,0.49,0.48,0.47,0.48,0.47,0.46,0.46,0.45,0.43,0.45,\n",
        "        0.43,0.43,0.44,0.43,0.43,0.46,0.45,0.42,0.42,0.43,0.41,\n",
        "        0.41,0.40,0.42,0.40,0.40,0.41,0.40,0.41,0.41,0.40,0.40,\n",
        "        0.40,0.38,0.41,0.40,0.40,0.41,0.38,0.40,0.40,0.39,0.39]\n",
        "\n",
        "x = semanas\n",
        "y = cloro\n",
        "\n",
        "res,cov = curve_fit(f,x,y)\n",
        "\n",
        "print(res)\n",
        "print(cov)\n",
        "\n",
        "xx = np.linspace(8,40,50)\n",
        "fig,axes=plt.subplots()\n",
        "axes.scatter(x,y)\n",
        "axes.plot(xx,f(xx,0.39014001,0.1016327))"
      ],
      "execution_count": null,
      "outputs": []
    },
    {
      "cell_type": "code",
      "metadata": {
        "id": "T5GQkPqQBATT"
      },
      "source": [],
      "execution_count": null,
      "outputs": []
    },
    {
      "cell_type": "code",
      "metadata": {
        "id": "K1_S5UwoA__0"
      },
      "source": [],
      "execution_count": null,
      "outputs": []
    },
    {
      "cell_type": "markdown",
      "metadata": {
        "id": "fmq8v-LFVrla"
      },
      "source": [
        "# **TALLER REGRESION LINEAL Y NO LINEAL CON R**\n",
        "\n",
        "SUGERENCIAS:\n",
        "1. Puede utilizar R magit aquí en colaboratory, ó\n",
        "2. Desarrolle el notebook de R en kaggle para mayor comodidad\n",
        "\n",
        "**Objetivos**. Ajustar los datos de secado en función del tiempo a modelos lineales y no lineales\n",
        "\n",
        "**PROCEDIMIENTO**\n",
        "1. Cargue los datos del dataset “Humedades.xls”\n",
        "2. Seleccione los datos en Excel de tiempo y humedad para la temperatura de 40 grados y cree un dataset h40\n",
        "3. Haga lo mismo para las demás temperaturas y cree los datasets h50, h60, h70 y h80\n",
        "4. Intente ajustar los lineas suponiendo una relación lineal (Recuerde que el secado sigue una caída exponencial de acuerdo a la ley de enfriamiento de Newton)\n",
        "5. Ajuste a cada uno de los siguientes modelos:\n",
        "\n",
        "**MODELO DE HENDERSON & PABIS**\n",
        "$$\n",
        "r1 <- nls(humedad ~  a * exp(-k * tiempo), trace=TRUE)\n",
        "$$\n",
        "\n",
        "**MODELO DE LEWIS (a=1)**\n",
        "$$\n",
        "r2 <- nls(humedad ~  exp(-k * tiempo), trace=TRUE)\n",
        "$$\n",
        "\n",
        "**MODELO DE PAGE**\n",
        "$$\n",
        "r3 <- nls(humedad ~  exp(-k * tiempo^n), trace=TRUE)\n",
        "$$\n",
        "\n",
        "**MODELO DE LOS DOS TÉRMINOS**\n",
        "$$\n",
        "r4 <- nls(humedad ~  A1*exp(-B * tiempo) + A2*exp(B*tiempo), trace=TRUE)\n",
        "$$\n",
        "\n",
        "**MODELO DE PAGE MODIFICADO**\n",
        "$$\n",
        "r5 <- nls(humedad ~  exp((k * tiempo)^n), trace=TRUE)\n",
        "$$\n",
        "\n",
        "**MODELO DE THOMPSON**\n",
        "$$\n",
        "r6 <- nls(humedad ~ a*log(tiempo)+b*(log(tiempo))^2, trace=TRUE)\n",
        "$$\n",
        "\n",
        "**MODELO DE WANG Y SINGH**\n",
        "$$\n",
        "r7 <- nls(humedad ~ 1+a*tiempo+b*tiempo^2, trace=TRUE)\n",
        "$$\n",
        "\n",
        "**hacemos un anova para ver cual modelo se ajusta mejor, significancia de los modelos**\n",
        "\n",
        "**LA BONDAD DEL AJUSTE SERÁ PARA EL MAYOR R^2 Y LOS MENORES ssr y sse**\n",
        "\n",
        "a=anova(r1, r2, r3, r4,r7)\n",
        "\n",
        "**SIGNIFICANCIA DEL MODELO**\n",
        "**LA BONDAD DEL AJUSTE SERÁ PARA EL MAYOR R² Y LOS MENORES ssr y sse**\n",
        "\n",
        "**EL CALCULO DE R²: VER MONTGOMERY PAGINA 464**\n",
        "$$\n",
        "R^2=SSr/SSt=1-SSe/SSt\n",
        "$$\n",
        "\n",
        "$$\n",
        "r_2r1=1-sum(resid(r1)^2)/sum((humedad-mean(humedad))^2)\n",
        "$$\n",
        "\n",
        "**R^2: VER MONTGOMERY  PAGINA 464**\n",
        "\n",
        "$$\n",
        "sser1=sum(resid(r1)^2)\n",
        "$$\n",
        "\n",
        "$$\n",
        "sstr1=sum((humedad-mean(humedad))^2)\n",
        "$$\n",
        "\n",
        "$$\n",
        "ssrr1=sstr1-sser1\n",
        "$$\n",
        "**VER MONTGOMERY PAGINA 451**"
      ]
    },
    {
      "cell_type": "markdown",
      "metadata": {
        "id": "OSwSRaW4Fxf3"
      },
      "source": [
        "# EJERCICIO: En el conjunto de datos agregados, Verifique que la variable dependiente rcompc (Resistencia a la compresión del concreto en kg/cm2) está relacionada linealmente con la variable independiente rcompa (Resistencia a la compresión del agregado en kg/cm2)"
      ]
    },
    {
      "cell_type": "code",
      "metadata": {
        "id": "4riJ8wOtH7bw"
      },
      "source": [],
      "execution_count": null,
      "outputs": []
    },
    {
      "cell_type": "code",
      "metadata": {
        "id": "M7gKAvFIH-7n"
      },
      "source": [
        "from google.colab import drive\n",
        "drive.mount('/content/drive')"
      ],
      "execution_count": null,
      "outputs": []
    },
    {
      "cell_type": "code",
      "metadata": {
        "id": "HAyGW2B7IqvT"
      },
      "source": [
        "import pandas as pd"
      ],
      "execution_count": null,
      "outputs": []
    },
    {
      "cell_type": "code",
      "metadata": {
        "id": "TNT3Z14tJlvm"
      },
      "source": [
        "# Cargo el archivo de excel\n",
        "archivo = pd.ExcelFile(\"/content/drive/MyDrive/2025_SEM_2/1_1_ESTADISTICA_2025_S_2/Datasets_2025_2/DATOS_2025_SEM_2.xlsx\")\n",
        "# Muestro los nombres de las hojas, para ver cómo están escritas\n",
        "archivo.sheet_names"
      ],
      "execution_count": null,
      "outputs": []
    },
    {
      "cell_type": "code",
      "metadata": {
        "id": "P5ppGyYXKYAJ"
      },
      "source": [
        "# Conocido el nombre de la hoja que me interesa la cargo con la función parse()\n",
        "agregados = archivo.parse(\"Agregados\")"
      ],
      "execution_count": null,
      "outputs": []
    },
    {
      "cell_type": "code",
      "metadata": {
        "id": "tfHoCYfiIuEt"
      },
      "source": [
        "# Si conozco el nombre de la hoja puedo cargarla pasando su nombre\n",
        "# en el argumento sheet_name=, utilizando la función read_excel de pandas\n",
        "agregados = pd.read_excel(\"/content/drive/MyDrive/2025_SEM_2/1_1_ESTADISTICA_2025_S_2/Datasets_2025_2/DATOS_2025_SEM_2.xlsx\",sheet_name=\"Agregados\")"
      ],
      "execution_count": null,
      "outputs": []
    },
    {
      "cell_type": "code",
      "metadata": {
        "id": "azuUjZugI-SW"
      },
      "source": [
        "# Miro las primeras lineas\n",
        "agregados.head(3)"
      ],
      "execution_count": null,
      "outputs": []
    },
    {
      "cell_type": "code",
      "metadata": {
        "id": "QRKAORU2K2AN"
      },
      "source": [
        "# Importo el módulo seaborn\n",
        "import seaborn as sns"
      ],
      "execution_count": null,
      "outputs": []
    },
    {
      "cell_type": "code",
      "metadata": {
        "id": "DZDbRwbpLEIr"
      },
      "source": [
        "# Trazo el gráfico de dispersión\n",
        "sns.relplot(x=\"rcompa\",y=\"rcompc\",data=agregados)"
      ],
      "execution_count": null,
      "outputs": []
    },
    {
      "cell_type": "code",
      "metadata": {
        "id": "eD0XjHghLWyx"
      },
      "source": [
        "# Importo las funciones para probar la normalidad y la correlación\n",
        "from scipy.stats import shapiro, pearsonr, spearmanr,kendalltau"
      ],
      "execution_count": null,
      "outputs": []
    },
    {
      "cell_type": "code",
      "metadata": {
        "id": "vGAeraDCLxcT"
      },
      "source": [
        "# Pruebo la hipótesis nula de rcompc es normal\n",
        "shapiro(agregados.rcompc)"
      ],
      "execution_count": null,
      "outputs": []
    },
    {
      "cell_type": "code",
      "metadata": {
        "id": "GIi0YzNLL3Pv"
      },
      "source": [
        "# Pruebo la hipótesis de rcompa y recompc están correlacionadas linealmente\n",
        "# Uso spearmanr o kendalltau porque no es normal rcompc\n",
        "spearmanr(agregados.rcompa,agregados.rcompc)"
      ],
      "execution_count": null,
      "outputs": []
    },
    {
      "cell_type": "code",
      "metadata": {
        "id": "OnUBPCXaMlgA"
      },
      "source": [
        "sns.regplot(x=\"rcompa\",y=\"rcompc\",data=agregados)"
      ],
      "execution_count": null,
      "outputs": []
    },
    {
      "cell_type": "code",
      "metadata": {
        "id": "2NEt4VFyNCTG"
      },
      "source": [
        "sns.residplot(x=\"rcompa\",y=\"rcompc\",data=agregados)"
      ],
      "execution_count": null,
      "outputs": []
    },
    {
      "cell_type": "code",
      "metadata": {
        "id": "dCGUkt9MNLK3"
      },
      "source": [
        "sns.regplot(x=\"rcompa\",y=\"rcompc\",data=agregados,robust=True)"
      ],
      "execution_count": null,
      "outputs": []
    },
    {
      "cell_type": "code",
      "metadata": {
        "id": "oZsVdsFPNriV"
      },
      "source": [
        "sns.residplot(x=\"rcompa\",y=\"rcompc\",data=agregados,robust=True)"
      ],
      "execution_count": null,
      "outputs": []
    }
  ]
}